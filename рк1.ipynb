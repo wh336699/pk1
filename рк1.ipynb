{
 "cells": [
  {
   "cell_type": "code",
   "execution_count": 1,
   "id": "1a831537-5702-4149-81bb-7b0dd5888fe6",
   "metadata": {},
   "outputs": [],
   "source": [
    "import pandas as pd \n",
    "import seaborn as sns\n",
    "import numpy as mp"
   ]
  },
  {
   "cell_type": "code",
   "execution_count": 2,
   "id": "91c296b6-91dd-4b66-b1a6-1d5c1cb2a56d",
   "metadata": {},
   "outputs": [],
   "source": [
    "data=pd.read_csv(\"/Users/mohao/Downloads/ммо/pk1/Latest Covid-19 India Status.csv\")"
   ]
  },
  {
   "cell_type": "code",
   "execution_count": 3,
   "id": "2610de52-155b-418e-9057-2ab0d702471b",
   "metadata": {},
   "outputs": [
    {
     "data": {
      "text/html": [
       "<div>\n",
       "<style scoped>\n",
       "    .dataframe tbody tr th:only-of-type {\n",
       "        vertical-align: middle;\n",
       "    }\n",
       "\n",
       "    .dataframe tbody tr th {\n",
       "        vertical-align: top;\n",
       "    }\n",
       "\n",
       "    .dataframe thead th {\n",
       "        text-align: right;\n",
       "    }\n",
       "</style>\n",
       "<table border=\"1\" class=\"dataframe\">\n",
       "  <thead>\n",
       "    <tr style=\"text-align: right;\">\n",
       "      <th></th>\n",
       "      <th>State/UTs</th>\n",
       "      <th>Total Cases</th>\n",
       "      <th>Active</th>\n",
       "      <th>Discharged</th>\n",
       "      <th>Deaths</th>\n",
       "      <th>Active Ratio</th>\n",
       "      <th>Discharge Ratio</th>\n",
       "      <th>Death Ratio</th>\n",
       "      <th>Population</th>\n",
       "    </tr>\n",
       "  </thead>\n",
       "  <tbody>\n",
       "    <tr>\n",
       "      <th>0</th>\n",
       "      <td>Andaman And Nicobar</td>\n",
       "      <td>10032</td>\n",
       "      <td>1</td>\n",
       "      <td>9902</td>\n",
       "      <td>129</td>\n",
       "      <td>0.01</td>\n",
       "      <td>98.70</td>\n",
       "      <td>1.29</td>\n",
       "      <td>100896618</td>\n",
       "    </tr>\n",
       "    <tr>\n",
       "      <th>1</th>\n",
       "      <td>Andhra Pradesh</td>\n",
       "      <td>2319504</td>\n",
       "      <td>346</td>\n",
       "      <td>2304428</td>\n",
       "      <td>14730</td>\n",
       "      <td>0.01</td>\n",
       "      <td>99.35</td>\n",
       "      <td>0.64</td>\n",
       "      <td>128500364</td>\n",
       "    </tr>\n",
       "    <tr>\n",
       "      <th>2</th>\n",
       "      <td>Arunachal Pradesh</td>\n",
       "      <td>64484</td>\n",
       "      <td>0</td>\n",
       "      <td>64188</td>\n",
       "      <td>296</td>\n",
       "      <td>0.00</td>\n",
       "      <td>99.54</td>\n",
       "      <td>0.46</td>\n",
       "      <td>658019</td>\n",
       "    </tr>\n",
       "    <tr>\n",
       "      <th>3</th>\n",
       "      <td>Assam</td>\n",
       "      <td>724196</td>\n",
       "      <td>1358</td>\n",
       "      <td>716199</td>\n",
       "      <td>6639</td>\n",
       "      <td>0.19</td>\n",
       "      <td>98.90</td>\n",
       "      <td>0.92</td>\n",
       "      <td>290492</td>\n",
       "    </tr>\n",
       "    <tr>\n",
       "      <th>4</th>\n",
       "      <td>Bihar</td>\n",
       "      <td>830459</td>\n",
       "      <td>32</td>\n",
       "      <td>818171</td>\n",
       "      <td>12256</td>\n",
       "      <td>0.00</td>\n",
       "      <td>98.52</td>\n",
       "      <td>1.48</td>\n",
       "      <td>40100376</td>\n",
       "    </tr>\n",
       "  </tbody>\n",
       "</table>\n",
       "</div>"
      ],
      "text/plain": [
       "             State/UTs  Total Cases  Active  Discharged  Deaths  Active Ratio  \\\n",
       "0  Andaman And Nicobar        10032       1        9902     129          0.01   \n",
       "1       Andhra Pradesh      2319504     346     2304428   14730          0.01   \n",
       "2    Arunachal Pradesh        64484       0       64188     296          0.00   \n",
       "3                Assam       724196    1358      716199    6639          0.19   \n",
       "4                Bihar       830459      32      818171   12256          0.00   \n",
       "\n",
       "   Discharge Ratio  Death Ratio  Population  \n",
       "0            98.70         1.29   100896618  \n",
       "1            99.35         0.64   128500364  \n",
       "2            99.54         0.46      658019  \n",
       "3            98.90         0.92      290492  \n",
       "4            98.52         1.48    40100376  "
      ]
     },
     "execution_count": 3,
     "metadata": {},
     "output_type": "execute_result"
    }
   ],
   "source": [
    "data.head()"
   ]
  },
  {
   "cell_type": "code",
   "execution_count": 4,
   "id": "b0ba06c4-4f2b-47af-8e8e-0680952a3bec",
   "metadata": {},
   "outputs": [
    {
     "data": {
      "text/plain": [
       "State/UTs          0\n",
       "Total Cases        0\n",
       "Active             0\n",
       "Discharged         0\n",
       "Deaths             0\n",
       "Active Ratio       0\n",
       "Discharge Ratio    0\n",
       "Death Ratio        0\n",
       "Population         0\n",
       "dtype: int64"
      ]
     },
     "execution_count": 4,
     "metadata": {},
     "output_type": "execute_result"
    }
   ],
   "source": [
    "data.isnull().sum()"
   ]
  },
  {
   "cell_type": "code",
   "execution_count": 5,
   "id": "e8b4717c-88df-4c6d-85ad-9182c4d0742c",
   "metadata": {},
   "outputs": [
    {
     "name": "stdout",
     "output_type": "stream",
     "text": [
      "<class 'pandas.core.frame.DataFrame'>\n",
      "RangeIndex: 36 entries, 0 to 35\n",
      "Data columns (total 9 columns):\n",
      " #   Column           Non-Null Count  Dtype  \n",
      "---  ------           --------------  -----  \n",
      " 0   State/UTs        36 non-null     object \n",
      " 1   Total Cases      36 non-null     int64  \n",
      " 2   Active           36 non-null     int64  \n",
      " 3   Discharged       36 non-null     int64  \n",
      " 4   Deaths           36 non-null     int64  \n",
      " 5   Active Ratio     36 non-null     float64\n",
      " 6   Discharge Ratio  36 non-null     float64\n",
      " 7   Death Ratio      36 non-null     float64\n",
      " 8   Population       36 non-null     int64  \n",
      "dtypes: float64(3), int64(5), object(1)\n",
      "memory usage: 2.7+ KB\n"
     ]
    }
   ],
   "source": [
    "data.info()"
   ]
  },
  {
   "cell_type": "code",
   "execution_count": 6,
   "id": "cb5e89bd-204e-4d76-a196-1c1e49adead0",
   "metadata": {},
   "outputs": [],
   "source": [
    "#Задача №15.\n",
    "\n",
    "#Для набора данных проведите нормализацию \n",
    "#для одного (произвольного) числового признака с использованием функции \"возведение в степень\"."
   ]
  },
  {
   "cell_type": "code",
   "execution_count": 7,
   "id": "9eb6b9e9-50e0-43df-b9aa-7ecdb446d962",
   "metadata": {},
   "outputs": [],
   "source": [
    "from sklearn.feature_selection import SelectKBest\n",
    "from matplotlib import pyplot as plt\n",
    "from sklearn.feature_selection import f_regression\n",
    "import math"
   ]
  },
  {
   "cell_type": "code",
   "execution_count": 8,
   "id": "e0f17fc9-3fb9-4003-9443-c53dca783c31",
   "metadata": {},
   "outputs": [
    {
     "data": {
      "text/html": [
       "<div>\n",
       "<style scoped>\n",
       "    .dataframe tbody tr th:only-of-type {\n",
       "        vertical-align: middle;\n",
       "    }\n",
       "\n",
       "    .dataframe tbody tr th {\n",
       "        vertical-align: top;\n",
       "    }\n",
       "\n",
       "    .dataframe thead th {\n",
       "        text-align: right;\n",
       "    }\n",
       "</style>\n",
       "<table border=\"1\" class=\"dataframe\">\n",
       "  <thead>\n",
       "    <tr style=\"text-align: right;\">\n",
       "      <th></th>\n",
       "      <th>State/UTs</th>\n",
       "      <th>Total Cases</th>\n",
       "      <th>Active</th>\n",
       "      <th>Discharged</th>\n",
       "      <th>Deaths</th>\n",
       "      <th>Active Ratio</th>\n",
       "      <th>Discharge Ratio</th>\n",
       "      <th>Death Ratio</th>\n",
       "      <th>Population</th>\n",
       "    </tr>\n",
       "  </thead>\n",
       "  <tbody>\n",
       "    <tr>\n",
       "      <th>0</th>\n",
       "      <td>Andaman And Nicobar</td>\n",
       "      <td>10032</td>\n",
       "      <td>1</td>\n",
       "      <td>9902</td>\n",
       "      <td>0.408268</td>\n",
       "      <td>0.01</td>\n",
       "      <td>98.70</td>\n",
       "      <td>1.29</td>\n",
       "      <td>100896618</td>\n",
       "    </tr>\n",
       "    <tr>\n",
       "      <th>1</th>\n",
       "      <td>Andhra Pradesh</td>\n",
       "      <td>2319504</td>\n",
       "      <td>346</td>\n",
       "      <td>2304428</td>\n",
       "      <td>0.806289</td>\n",
       "      <td>0.01</td>\n",
       "      <td>99.35</td>\n",
       "      <td>0.64</td>\n",
       "      <td>128500364</td>\n",
       "    </tr>\n",
       "    <tr>\n",
       "      <th>2</th>\n",
       "      <td>Arunachal Pradesh</td>\n",
       "      <td>64484</td>\n",
       "      <td>0</td>\n",
       "      <td>64188</td>\n",
       "      <td>0.478042</td>\n",
       "      <td>0.00</td>\n",
       "      <td>99.54</td>\n",
       "      <td>0.46</td>\n",
       "      <td>658019</td>\n",
       "    </tr>\n",
       "    <tr>\n",
       "      <th>3</th>\n",
       "      <td>Assam</td>\n",
       "      <td>724196</td>\n",
       "      <td>1358</td>\n",
       "      <td>716199</td>\n",
       "      <td>0.739340</td>\n",
       "      <td>0.19</td>\n",
       "      <td>98.90</td>\n",
       "      <td>0.92</td>\n",
       "      <td>290492</td>\n",
       "    </tr>\n",
       "    <tr>\n",
       "      <th>4</th>\n",
       "      <td>Bihar</td>\n",
       "      <td>830459</td>\n",
       "      <td>32</td>\n",
       "      <td>818171</td>\n",
       "      <td>0.790842</td>\n",
       "      <td>0.00</td>\n",
       "      <td>98.52</td>\n",
       "      <td>1.48</td>\n",
       "      <td>40100376</td>\n",
       "    </tr>\n",
       "  </tbody>\n",
       "</table>\n",
       "</div>"
      ],
      "text/plain": [
       "             State/UTs  Total Cases  Active  Discharged    Deaths  \\\n",
       "0  Andaman And Nicobar        10032       1        9902  0.408268   \n",
       "1       Andhra Pradesh      2319504     346     2304428  0.806289   \n",
       "2    Arunachal Pradesh        64484       0       64188  0.478042   \n",
       "3                Assam       724196    1358      716199  0.739340   \n",
       "4                Bihar       830459      32      818171  0.790842   \n",
       "\n",
       "   Active Ratio  Discharge Ratio  Death Ratio  Population  \n",
       "0          0.01            98.70         1.29   100896618  \n",
       "1          0.01            99.35         0.64   128500364  \n",
       "2          0.00            99.54         0.46      658019  \n",
       "3          0.19            98.90         0.92      290492  \n",
       "4          0.00            98.52         1.48    40100376  "
      ]
     },
     "execution_count": 8,
     "metadata": {},
     "output_type": "execute_result"
    }
   ],
   "source": [
    "max_death=data[\"Deaths\"].max()\n",
    "for i in range(data.shape[0]):\n",
    "    data.iloc[i,4]=math.log10(data.iloc[i,4])/math.log10(max_death)\n",
    "data.head()"
   ]
  },
  {
   "cell_type": "code",
   "execution_count": 9,
   "id": "7fefd615-999b-46a9-b05d-75e52cd8148c",
   "metadata": {},
   "outputs": [],
   "source": [
    "#Для студентов группы ИУ5-24М, ИУ5И-24М - \n",
    "#для произвольной колонки данных построить график \"Скрипичная диаграмма (violin plot)\"."
   ]
  },
  {
   "cell_type": "code",
   "execution_count": 10,
   "id": "c91e94d2-1171-446e-9655-b517189fe03d",
   "metadata": {},
   "outputs": [
    {
     "data": {
      "text/plain": [
       "<AxesSubplot:xlabel='Total Cases'>"
      ]
     },
     "execution_count": 10,
     "metadata": {},
     "output_type": "execute_result"
    },
    {
     "data": {
      "image/png": "[encoded data removed]",
      "text/plain": [
       "<Figure size 432x288 with 1 Axes>"
      ]
     },
     "metadata": {
      "needs_background": "light"
     },
     "output_type": "display_data"
    }
   ],
   "source": [
    "sns.violinplot(x=data[\"Total Cases\"])"
   ]
  },
  {
   "cell_type": "code",
   "execution_count": 11,
   "id": "2bff1693-204d-47d5-9202-b7a99f9282b6",
   "metadata": {},
   "outputs": [
    {
     "data": {
      "text/plain": [
       "<AxesSubplot:xlabel='Deaths'>"
      ]
     },
     "execution_count": 11,
     "metadata": {},
     "output_type": "execute_result"
    },
    {
     "data": {
      "image/png": "[encoded data removed]",
      "text/plain": [
       "<Figure size 432x288 with 1 Axes>"
      ]
     },
     "metadata": {
      "needs_background": "light"
     },
     "output_type": "display_data"
    }
   ],
   "source": [
    "sns.violinplot(x=data[\"Deaths\"], palette=\"Set2\", split=True,\n",
    "               scale=\"count\", inner=\"stick\",\n",
    "               scale_hue=False, bw=.2)"
   ]
  },
  {
   "cell_type": "code",
   "execution_count": 12,
   "id": "fa4e59b8-1912-4342-b3f1-8fab4f74f010",
   "metadata": {},
   "outputs": [],
   "source": [
    "#Для набора данных проведите процедуру отбора признаков (feature selection). \n",
    "#Используйте метод вложений (embedded method). Используйте подход на основе дерева решений"
   ]
  },
  {
   "cell_type": "code",
   "execution_count": null,
   "id": "43c326fc-ff46-4537-a3a0-d1ba4cacab33",
   "metadata": {},
   "outputs": [],
   "source": [
    "#Выберите данные для обработки"
   ]
  },
  {
   "cell_type": "code",
   "execution_count": 13,
   "id": "d42cde29-1bb9-44e0-a959-baf9bac23f40",
   "metadata": {},
   "outputs": [],
   "source": [
    "y=data['Total Cases']\n",
    "x=data.drop(['Total Cases','State/UTs'],axis=1)"
   ]
  },
  {
   "cell_type": "code",
   "execution_count": null,
   "id": "8e3ad833-7d83-4eb2-9bc9-263032667a16",
   "metadata": {},
   "outputs": [],
   "source": [
    "#Установите порог для выбора модели на 0,145"
   ]
  },
  {
   "cell_type": "code",
   "execution_count": 14,
   "id": "517b8dd0-cbe3-4532-83ba-5cd585819fcd",
   "metadata": {},
   "outputs": [
    {
     "name": "stdout",
     "output_type": "stream",
     "text": [
      "(36, 3)\n",
      "[2 5 6]\n"
     ]
    }
   ],
   "source": [
    "from sklearn import datasets\n",
    "from sklearn import metrics\n",
    "from sklearn.ensemble import ExtraTreesClassifier\n",
    "from sklearn.feature_selection import SelectFromModel\n",
    "model = ExtraTreesClassifier()\n",
    "new_model = SelectFromModel(model,threshold=0.145)\n",
    "x_new=new_model.fit_transform(x, y)\n",
    "print(x_new.shape)\n",
    "print(new_model.get_support(indices=True))"
   ]
  },
  {
   "cell_type": "code",
   "execution_count": 15,
   "id": "cf2d4552-593d-4aa9-aa1b-095d6ee78c41",
   "metadata": {
    "tags": []
   },
   "outputs": [
    {
     "data": {
      "text/plain": [
       "<AxesSubplot:>"
      ]
     },
     "execution_count": 15,
     "metadata": {},
     "output_type": "execute_result"
    },
    {
     "data": {
      "image/png": "[encoded data removed]",
      "text/plain": [
       "<Figure size 720x576 with 1 Axes>"
      ]
     },
     "metadata": {
      "needs_background": "light"
     },
     "output_type": "display_data"
    }
   ],
   "source": [
    "plt.figure(figsize=(10,8))\n",
    "sns.barplot(x=x.columns.values,y=ExtraTreesClassifier().fit(x,y).feature_importances_)"
   ]
  },
  {
   "cell_type": "code",
   "execution_count": null,
   "id": "986aa8ef-d634-4552-9475-cc1296fddcc8",
   "metadata": {},
   "outputs": [],
   "source": [
    "#Выбранные признаки являются вторым (DEATH), пятым (DEATH RATIO) и шестым (POPULATION) в массиве."
   ]
  },
  {
   "cell_type": "code",
   "execution_count": null,
   "id": "ea419b60-4cf3-4dc9-9523-aadbeb511cee",
   "metadata": {},
   "outputs": [],
   "source": []
  },
  {
   "cell_type": "code",
   "execution_count": null,
   "id": "a5a1c35c-d6dc-4907-bfd5-9515356c5f92",
   "metadata": {},
   "outputs": [],
   "source": [
    "\n"
   ]
  },
  {
   "cell_type": "code",
   "execution_count": null,
   "id": "01b8a767-08cf-45eb-8be9-dc5f9dcb6765",
   "metadata": {},
   "outputs": [],
   "source": []
  },
  {
   "cell_type": "code",
   "execution_count": null,
   "id": "754b0ea4-4dd2-4834-8599-ec31ded42e10",
   "metadata": {},
   "outputs": [],
   "source": []
  },
  {
   "cell_type": "code",
   "execution_count": null,
   "id": "54e5c0aa-ccd3-4563-b1cb-807d0e83d414",
   "metadata": {},
   "outputs": [],
   "source": []
  },
  {
   "cell_type": "code",
   "execution_count": null,
   "id": "e31a47d3-124f-4f84-bc24-061ed8a0aee8",
   "metadata": {},
   "outputs": [],
   "source": []
  },
  {
   "cell_type": "code",
   "execution_count": null,
   "id": "8ffb6b1d-b1cc-42ad-8ecc-243d478072c9",
   "metadata": {},
   "outputs": [],
   "source": []
  }
 ],
 "metadata": {
  "kernelspec": {
   "display_name": "Python 3 (ipykernel)",
   "language": "python",
   "name": "python3"
  },
  "language_info": {
   "codemirror_mode": {
    "name": "ipython",
    "version": 3
   },
   "file_extension": ".py",
   "mimetype": "text/x-python",
   "name": "python",
   "nbconvert_exporter": "python",
   "pygments_lexer": "ipython3",
   "version": "3.9.7"
  }
 },
 "nbformat": 4,
 "nbformat_minor": 5
}
