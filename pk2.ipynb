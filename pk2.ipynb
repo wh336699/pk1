{
 "cells": [
  {
   "cell_type": "markdown",
   "id": "a5215335-a849-4fc7-aab8-bd56ba79369b",
   "metadata": {
    "tags": []
   },
   "source": [
    "# РК2\n",
    "## Студент: вань хао\n",
    "## Группа: ИУ5-24М\n",
    "## Тема: Методы обработки текстов\n",
    "## Решение задачи классификации текстов\n",
    "### Необходимо решить задачу классификации текстов на основе любого выбранного Вами датасета (кроме примера, который рассматривался в лекции). Классификация ### может быть бинарной или многоклассовой. Целевой признак из выбранного Вами датасета может иметь любой физический смысл, примером является задача анализа ### тональности текста.\n",
    "\n",
    "### Необходимо сформировать два варианта векторизации признаков - на основе CountVectorizer и на основе TfidfVectorizer.\n",
    "\n",
    "### В качестве классификаторов необходимо использовать два классификатора по варианту для группы ИУ5-24М:\n",
    "\n",
    "### Классификатор №1: KNeighborsClassifier\n",
    "### Классификатор №2: Complement Naive Bayes - CNB"
   ]
  },
  {
   "cell_type": "code",
   "execution_count": 80,
   "id": "c0293e86-2552-40a0-8c16-d6bc113a9182",
   "metadata": {},
   "outputs": [],
   "source": [
    "import os\n",
    "import gzip\n",
    "import shutil\n",
    "\n",
    "import numpy as np\n",
    "import pandas as pd\n",
    "from sklearn.feature_extraction.text import CountVectorizer, TfidfVectorizer\n",
    "from sklearn.model_selection import train_test_split\n",
    "from sklearn.metrics import classification_report\n",
    "from sklearn.neighbors import KNeighborsClassifier\n",
    "from sklearn.naive_bayes import ComplementNB\n",
    "\n",
    "import warnings\n",
    "warnings.filterwarnings('ignore')"
   ]
  },
  {
   "cell_type": "code",
   "execution_count": 81,
   "id": "8781bfc1-6fe0-4328-9663-ebf64a98cbbc",
   "metadata": {},
   "outputs": [
    {
     "data": {
      "text/html": [
       "<div>\n",
       "<style scoped>\n",
       "    .dataframe tbody tr th:only-of-type {\n",
       "        vertical-align: middle;\n",
       "    }\n",
       "\n",
       "    .dataframe tbody tr th {\n",
       "        vertical-align: top;\n",
       "    }\n",
       "\n",
       "    .dataframe thead th {\n",
       "        text-align: right;\n",
       "    }\n",
       "</style>\n",
       "<table border=\"1\" class=\"dataframe\">\n",
       "  <thead>\n",
       "    <tr style=\"text-align: right;\">\n",
       "      <th></th>\n",
       "      <th>textID</th>\n",
       "      <th>text</th>\n",
       "      <th>selected_text</th>\n",
       "      <th>sentiment</th>\n",
       "    </tr>\n",
       "  </thead>\n",
       "  <tbody>\n",
       "    <tr>\n",
       "      <th>0</th>\n",
       "      <td>cb774db0d1</td>\n",
       "      <td>I`d have responded, if I were going</td>\n",
       "      <td>I`d have responded, if I were going</td>\n",
       "      <td>neutral</td>\n",
       "    </tr>\n",
       "    <tr>\n",
       "      <th>1</th>\n",
       "      <td>549e992a42</td>\n",
       "      <td>Sooo SAD I will miss you here in San Diego!!!</td>\n",
       "      <td>Sooo SAD</td>\n",
       "      <td>negative</td>\n",
       "    </tr>\n",
       "    <tr>\n",
       "      <th>2</th>\n",
       "      <td>088c60f138</td>\n",
       "      <td>my boss is bullying me...</td>\n",
       "      <td>bullying me</td>\n",
       "      <td>negative</td>\n",
       "    </tr>\n",
       "    <tr>\n",
       "      <th>3</th>\n",
       "      <td>9642c003ef</td>\n",
       "      <td>what interview! leave me alone</td>\n",
       "      <td>leave me alone</td>\n",
       "      <td>negative</td>\n",
       "    </tr>\n",
       "    <tr>\n",
       "      <th>4</th>\n",
       "      <td>358bd9e861</td>\n",
       "      <td>Sons of ****, why couldn`t they put them on t...</td>\n",
       "      <td>Sons of ****,</td>\n",
       "      <td>negative</td>\n",
       "    </tr>\n",
       "  </tbody>\n",
       "</table>\n",
       "</div>"
      ],
      "text/plain": [
       "       textID                                               text  \\\n",
       "0  cb774db0d1                I`d have responded, if I were going   \n",
       "1  549e992a42      Sooo SAD I will miss you here in San Diego!!!   \n",
       "2  088c60f138                          my boss is bullying me...   \n",
       "3  9642c003ef                     what interview! leave me alone   \n",
       "4  358bd9e861   Sons of ****, why couldn`t they put them on t...   \n",
       "\n",
       "                         selected_text sentiment  \n",
       "0  I`d have responded, if I were going   neutral  \n",
       "1                             Sooo SAD  negative  \n",
       "2                          bullying me  negative  \n",
       "3                       leave me alone  negative  \n",
       "4                        Sons of ****,  negative  "
      ]
     },
     "execution_count": 81,
     "metadata": {},
     "output_type": "execute_result"
    }
   ],
   "source": [
    "df = pd.read_csv('/Users/wanhao/Downloads/毛子2/ммо/Tweets.csv')\n",
    "df.head()"
   ]
  },
  {
   "cell_type": "code",
   "execution_count": 82,
   "id": "b7347b92-d915-4990-8255-72ecb7521f38",
   "metadata": {},
   "outputs": [],
   "source": [
    "df=df.drop(['text','textID'],axis=1)"
   ]
  },
  {
   "cell_type": "code",
   "execution_count": 83,
   "id": "f5c454ce-b656-4e8b-bab2-9e654e213137",
   "metadata": {},
   "outputs": [
    {
     "data": {
      "text/html": [
       "<div>\n",
       "<style scoped>\n",
       "    .dataframe tbody tr th:only-of-type {\n",
       "        vertical-align: middle;\n",
       "    }\n",
       "\n",
       "    .dataframe tbody tr th {\n",
       "        vertical-align: top;\n",
       "    }\n",
       "\n",
       "    .dataframe thead th {\n",
       "        text-align: right;\n",
       "    }\n",
       "</style>\n",
       "<table border=\"1\" class=\"dataframe\">\n",
       "  <thead>\n",
       "    <tr style=\"text-align: right;\">\n",
       "      <th></th>\n",
       "      <th>selected_text</th>\n",
       "      <th>sentiment</th>\n",
       "    </tr>\n",
       "  </thead>\n",
       "  <tbody>\n",
       "    <tr>\n",
       "      <th>0</th>\n",
       "      <td>I`d have responded, if I were going</td>\n",
       "      <td>neutral</td>\n",
       "    </tr>\n",
       "    <tr>\n",
       "      <th>1</th>\n",
       "      <td>Sooo SAD</td>\n",
       "      <td>negative</td>\n",
       "    </tr>\n",
       "    <tr>\n",
       "      <th>2</th>\n",
       "      <td>bullying me</td>\n",
       "      <td>negative</td>\n",
       "    </tr>\n",
       "    <tr>\n",
       "      <th>3</th>\n",
       "      <td>leave me alone</td>\n",
       "      <td>negative</td>\n",
       "    </tr>\n",
       "    <tr>\n",
       "      <th>4</th>\n",
       "      <td>Sons of ****,</td>\n",
       "      <td>negative</td>\n",
       "    </tr>\n",
       "    <tr>\n",
       "      <th>...</th>\n",
       "      <td>...</td>\n",
       "      <td>...</td>\n",
       "    </tr>\n",
       "    <tr>\n",
       "      <th>27476</th>\n",
       "      <td>d lost</td>\n",
       "      <td>negative</td>\n",
       "    </tr>\n",
       "    <tr>\n",
       "      <th>27477</th>\n",
       "      <td>, don`t force</td>\n",
       "      <td>negative</td>\n",
       "    </tr>\n",
       "    <tr>\n",
       "      <th>27478</th>\n",
       "      <td>Yay good for both of you.</td>\n",
       "      <td>positive</td>\n",
       "    </tr>\n",
       "    <tr>\n",
       "      <th>27479</th>\n",
       "      <td>But it was worth it  ****.</td>\n",
       "      <td>positive</td>\n",
       "    </tr>\n",
       "    <tr>\n",
       "      <th>27480</th>\n",
       "      <td>All this flirting going on - The ATG smiles. Y...</td>\n",
       "      <td>neutral</td>\n",
       "    </tr>\n",
       "  </tbody>\n",
       "</table>\n",
       "<p>27481 rows × 2 columns</p>\n",
       "</div>"
      ],
      "text/plain": [
       "                                           selected_text sentiment\n",
       "0                    I`d have responded, if I were going   neutral\n",
       "1                                               Sooo SAD  negative\n",
       "2                                            bullying me  negative\n",
       "3                                         leave me alone  negative\n",
       "4                                          Sons of ****,  negative\n",
       "...                                                  ...       ...\n",
       "27476                                             d lost  negative\n",
       "27477                                      , don`t force  negative\n",
       "27478                          Yay good for both of you.  positive\n",
       "27479                         But it was worth it  ****.  positive\n",
       "27480  All this flirting going on - The ATG smiles. Y...   neutral\n",
       "\n",
       "[27481 rows x 2 columns]"
      ]
     },
     "execution_count": 83,
     "metadata": {},
     "output_type": "execute_result"
    }
   ],
   "source": [
    "df.head()\n",
    "df.dropna(axis=1,how='all')"
   ]
  },
  {
   "cell_type": "code",
   "execution_count": 84,
   "id": "542eb598-6f6d-475a-9d70-46f67ef17600",
   "metadata": {},
   "outputs": [
    {
     "data": {
      "text/plain": [
       "<27481x17620 sparse matrix of type '<class 'numpy.float64'>'\n",
       "\twith 173222 stored elements in Compressed Sparse Row format>"
      ]
     },
     "execution_count": 84,
     "metadata": {},
     "output_type": "execute_result"
    }
   ],
   "source": [
    "tfidfv = TfidfVectorizer()\n",
    "tfidf_ngram_features = tfidfv.fit_transform(df['selected_text'].values.astype('U'))\n",
    "tfidf_ngram_features"
   ]
  },
  {
   "cell_type": "code",
   "execution_count": 85,
   "id": "78919581-2e5c-46ab-aa16-b753fd91c301",
   "metadata": {},
   "outputs": [
    {
     "data": {
      "text/plain": [
       "<27481x17620 sparse matrix of type '<class 'numpy.int64'>'\n",
       "\twith 173222 stored elements in Compressed Sparse Row format>"
      ]
     },
     "execution_count": 85,
     "metadata": {},
     "output_type": "execute_result"
    }
   ],
   "source": [
    "countvec = CountVectorizer()\n",
    "countvec_ngram_features = countvec.fit_transform(df['selected_text'].values.astype('U'))\n",
    "countvec_ngram_features"
   ]
  },
  {
   "cell_type": "code",
   "execution_count": 86,
   "id": "56b628a5-7e82-44f1-ad0f-1c028723c8bf",
   "metadata": {},
   "outputs": [
    {
     "name": "stdout",
     "output_type": "stream",
     "text": [
      "              precision    recall  f1-score   support\n",
      "\n",
      "    negative     0.3553    0.9737    0.5206      2282\n",
      "     neutral     0.7849    0.0430    0.0816      3392\n",
      "    positive     0.9380    0.6585    0.7738      2571\n",
      "\n",
      "    accuracy                         0.4925      8245\n",
      "   macro avg     0.6927    0.5584    0.4587      8245\n",
      "weighted avg     0.7137    0.4925    0.4189      8245\n",
      "\n"
     ]
    }
   ],
   "source": [
    "# TFIDF + KNC\n",
    "X_train, X_test, y_train, y_test = train_test_split(tfidf_ngram_features, df['sentiment'], test_size=0.3, random_state=1)\n",
    "model = KNeighborsClassifier()\n",
    "model.fit(X_train, y_train)\n",
    "y_pred = model.predict(X_test)\n",
    "print(classification_report(y_test, y_pred, digits=4, target_names=list(map(str, list(y_test.unique())))))"
   ]
  },
  {
   "cell_type": "code",
   "execution_count": 87,
   "id": "adbf473d-de59-4243-9b68-e7f32cec0889",
   "metadata": {},
   "outputs": [
    {
     "name": "stdout",
     "output_type": "stream",
     "text": [
      "              precision    recall  f1-score   support\n",
      "\n",
      "    negative     0.4877    0.9032    0.6334      2282\n",
      "     neutral     0.8755    0.2966    0.4431      3392\n",
      "    positive     0.7087    0.7911    0.7477      2571\n",
      "\n",
      "    accuracy                         0.6187      8245\n",
      "   macro avg     0.6906    0.6636    0.6080      8245\n",
      "weighted avg     0.7162    0.6187    0.5907      8245\n",
      "\n"
     ]
    }
   ],
   "source": [
    "\n",
    "# CountVec + KNC\n",
    "X_train, X_test, y_train, y_test = train_test_split(countvec_ngram_features, df['sentiment'], \n",
    "                                                    test_size=0.3, random_state=1)\n",
    "model = KNeighborsClassifier()\n",
    "model.fit(X_train, y_train)\n",
    "y_pred = model.predict(X_test)\n",
    "print(classification_report(y_test, y_pred, digits=4, target_names=list(map(str, list(y_test.unique())))))"
   ]
  },
  {
   "cell_type": "code",
   "execution_count": 88,
   "id": "09a72ff7-2a5f-4308-ae87-f47e450892c0",
   "metadata": {},
   "outputs": [
    {
     "name": "stdout",
     "output_type": "stream",
     "text": [
      "              precision    recall  f1-score   support\n",
      "\n",
      "    negative     0.7994    0.7195    0.7574      2282\n",
      "     neutral     0.7664    0.8723    0.8159      3392\n",
      "    positive     0.8721    0.7904    0.8292      2571\n",
      "\n",
      "    accuracy                         0.8045      8245\n",
      "   macro avg     0.8126    0.7941    0.8008      8245\n",
      "weighted avg     0.8085    0.8045    0.8039      8245\n",
      "\n"
     ]
    }
   ],
   "source": [
    "# TFIDF + CNB\n",
    "X_train, X_test, y_train, y_test = train_test_split(tfidf_ngram_features, df['sentiment'], test_size=0.3, random_state=1)\n",
    "model = ComplementNB()\n",
    "model.fit(X_train, y_train)\n",
    "y_pred = model.predict(X_test)\n",
    "print(classification_report(y_test, y_pred, digits=4, target_names=list(map(str, list(y_test.unique())))))"
   ]
  },
  {
   "cell_type": "code",
   "execution_count": 89,
   "id": "b986235b-1dc1-4c7f-9fae-ba23171dcfc6",
   "metadata": {},
   "outputs": [
    {
     "name": "stdout",
     "output_type": "stream",
     "text": [
      "              precision    recall  f1-score   support\n",
      "\n",
      "    negative     0.7675    0.7217    0.7439      2282\n",
      "     neutral     0.7676    0.8337    0.7993      3392\n",
      "    positive     0.8410    0.7900    0.8147      2571\n",
      "\n",
      "    accuracy                         0.7891      8245\n",
      "   macro avg     0.7920    0.7818    0.7860      8245\n",
      "weighted avg     0.7905    0.7891    0.7888      8245\n",
      "\n"
     ]
    }
   ],
   "source": [
    "# CountVec + CNB\n",
    "X_train, X_test, y_train, y_test = train_test_split(countvec_ngram_features, df['sentiment'], \n",
    "                                                    test_size=0.3, random_state=1)\n",
    "model = ComplementNB()\n",
    "model.fit(X_train, y_train)\n",
    "y_pred = model.predict(X_test)\n",
    "print(classification_report(y_test, y_pred, digits=4, target_names=list(map(str, list(y_test.unique())))))"
   ]
  },
  {
   "cell_type": "markdown",
   "id": "79c18cd5-599d-465d-b970-03a126d3344d",
   "metadata": {},
   "source": [
    "## Как видно из результатов, лучшую точность показал TFIDF + CNB"
   ]
  },
  {
   "cell_type": "code",
   "execution_count": null,
   "id": "b13251e8-be0a-4b6c-a403-52ff5c886765",
   "metadata": {},
   "outputs": [],
   "source": []
  },
  {
   "cell_type": "code",
   "execution_count": null,
   "id": "ada4c6ce-6552-4f21-b516-99ad3ffbab49",
   "metadata": {},
   "outputs": [],
   "source": []
  },
  {
   "cell_type": "code",
   "execution_count": null,
   "id": "b26b86db-66ba-43a7-ba0e-a22b260b34d4",
   "metadata": {},
   "outputs": [],
   "source": []
  }
 ],
 "metadata": {
  "kernelspec": {
   "display_name": "Python 3 (ipykernel)",
   "language": "python",
   "name": "python3"
  },
  "language_info": {
   "codemirror_mode": {
    "name": "ipython",
    "version": 3
   },
   "file_extension": ".py",
   "mimetype": "text/x-python",
   "name": "python",
   "nbconvert_exporter": "python",
   "pygments_lexer": "ipython3",
   "version": "3.9.7"
  }
 },
 "nbformat": 4,
 "nbformat_minor": 5
}
